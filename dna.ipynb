{
 "cells": [
  {
   "cell_type": "code",
   "execution_count": 1,
   "metadata": {
    "execution": {
     "iopub.execute_input": "2024-12-12T06:30:18.776873Z",
     "iopub.status.busy": "2024-12-12T06:30:18.776590Z",
     "iopub.status.idle": "2024-12-12T06:31:00.521102Z",
     "shell.execute_reply": "2024-12-12T06:31:00.520048Z",
     "shell.execute_reply.started": "2024-12-12T06:30:18.776846Z"
    },
    "trusted": true
   },
   "outputs": [
    {
     "name": "stdout",
     "output_type": "stream",
     "text": [
      "Collecting qiskit\n",
      "  Downloading qiskit-1.3.0-cp39-abi3-manylinux_2_17_x86_64.manylinux2014_x86_64.whl.metadata (12 kB)\n",
      "Collecting rustworkx>=0.15.0 (from qiskit)\n",
      "  Downloading rustworkx-0.15.1-cp38-abi3-manylinux_2_17_x86_64.manylinux2014_x86_64.whl.metadata (9.9 kB)\n",
      "Requirement already satisfied: numpy<3,>=1.17 in /opt/conda/lib/python3.10/site-packages (from qiskit) (1.26.4)\n",
      "Requirement already satisfied: scipy>=1.5 in /opt/conda/lib/python3.10/site-packages (from qiskit) (1.14.1)\n",
      "Requirement already satisfied: sympy>=1.3 in /opt/conda/lib/python3.10/site-packages (from qiskit) (1.13.3)\n",
      "Requirement already satisfied: dill>=0.3 in /opt/conda/lib/python3.10/site-packages (from qiskit) (0.3.8)\n",
      "Requirement already satisfied: python-dateutil>=2.8.0 in /opt/conda/lib/python3.10/site-packages (from qiskit) (2.9.0.post0)\n",
      "Collecting stevedore>=3.0.0 (from qiskit)\n",
      "  Downloading stevedore-5.4.0-py3-none-any.whl.metadata (2.3 kB)\n",
      "Requirement already satisfied: typing-extensions in /opt/conda/lib/python3.10/site-packages (from qiskit) (4.12.2)\n",
      "Collecting symengine<0.14,>=0.11 (from qiskit)\n",
      "  Downloading symengine-0.13.0-cp310-cp310-manylinux_2_17_x86_64.manylinux2014_x86_64.whl.metadata (1.2 kB)\n",
      "Requirement already satisfied: six>=1.5 in /opt/conda/lib/python3.10/site-packages (from python-dateutil>=2.8.0->qiskit) (1.16.0)\n",
      "Collecting pbr>=2.0.0 (from stevedore>=3.0.0->qiskit)\n",
      "  Downloading pbr-6.1.0-py2.py3-none-any.whl.metadata (3.4 kB)\n",
      "Requirement already satisfied: mpmath<1.4,>=1.1.0 in /opt/conda/lib/python3.10/site-packages (from sympy>=1.3->qiskit) (1.3.0)\n",
      "Downloading qiskit-1.3.0-cp39-abi3-manylinux_2_17_x86_64.manylinux2014_x86_64.whl (6.7 MB)\n",
      "\u001b[2K   \u001b[90m━━━━━━━━━━━━━━━━━━━━━━━━━━━━━━━━━━━━━━━━\u001b[0m \u001b[32m6.7/6.7 MB\u001b[0m \u001b[31m53.8 MB/s\u001b[0m eta \u001b[36m0:00:00\u001b[0m00:01\u001b[0m00:01\u001b[0m\n",
      "\u001b[?25hDownloading rustworkx-0.15.1-cp38-abi3-manylinux_2_17_x86_64.manylinux2014_x86_64.whl (2.0 MB)\n",
      "\u001b[2K   \u001b[90m━━━━━━━━━━━━━━━━━━━━━━━━━━━━━━━━━━━━━━━━\u001b[0m \u001b[32m2.0/2.0 MB\u001b[0m \u001b[31m66.1 MB/s\u001b[0m eta \u001b[36m0:00:00\u001b[0m\n",
      "\u001b[?25hDownloading stevedore-5.4.0-py3-none-any.whl (49 kB)\n",
      "\u001b[2K   \u001b[90m━━━━━━━━━━━━━━━━━━━━━━━━━━━━━━━━━━━━━━━━\u001b[0m \u001b[32m49.5/49.5 kB\u001b[0m \u001b[31m3.1 MB/s\u001b[0m eta \u001b[36m0:00:00\u001b[0m\n",
      "\u001b[?25hDownloading symengine-0.13.0-cp310-cp310-manylinux_2_17_x86_64.manylinux2014_x86_64.whl (49.7 MB)\n",
      "\u001b[2K   \u001b[90m━━━━━━━━━━━━━━━━━━━━━━━━━━━━━━━━━━━━━━━━\u001b[0m \u001b[32m49.7/49.7 MB\u001b[0m \u001b[31m36.8 MB/s\u001b[0m eta \u001b[36m0:00:00\u001b[0m:00:01\u001b[0m00:01\u001b[0m\n",
      "\u001b[?25hDownloading pbr-6.1.0-py2.py3-none-any.whl (108 kB)\n",
      "\u001b[2K   \u001b[90m━━━━━━━━━━━━━━━━━━━━━━━━━━━━━━━━━━━━━━━━\u001b[0m \u001b[32m108.5/108.5 kB\u001b[0m \u001b[31m7.1 MB/s\u001b[0m eta \u001b[36m0:00:00\u001b[0m\n",
      "\u001b[?25hInstalling collected packages: symengine, rustworkx, pbr, stevedore, qiskit\n",
      "Successfully installed pbr-6.1.0 qiskit-1.3.0 rustworkx-0.15.1 stevedore-5.4.0 symengine-0.13.0\n",
      "Collecting qiskit-machine-learning\n",
      "  Downloading qiskit_machine_learning-0.8.1-py3-none-any.whl.metadata (13 kB)\n",
      "Requirement already satisfied: qiskit>=1.0 in /opt/conda/lib/python3.10/site-packages (from qiskit-machine-learning) (1.3.0)\n",
      "Requirement already satisfied: scipy>=1.4 in /opt/conda/lib/python3.10/site-packages (from qiskit-machine-learning) (1.14.1)\n",
      "Requirement already satisfied: numpy>=1.17 in /opt/conda/lib/python3.10/site-packages (from qiskit-machine-learning) (1.26.4)\n",
      "Requirement already satisfied: psutil>=5 in /opt/conda/lib/python3.10/site-packages (from qiskit-machine-learning) (5.9.3)\n",
      "Requirement already satisfied: scikit-learn>=1.2 in /opt/conda/lib/python3.10/site-packages (from qiskit-machine-learning) (1.2.2)\n",
      "Requirement already satisfied: setuptools>=40.1 in /opt/conda/lib/python3.10/site-packages (from qiskit-machine-learning) (70.0.0)\n",
      "Requirement already satisfied: dill>=0.3.4 in /opt/conda/lib/python3.10/site-packages (from qiskit-machine-learning) (0.3.8)\n",
      "Requirement already satisfied: rustworkx>=0.15.0 in /opt/conda/lib/python3.10/site-packages (from qiskit>=1.0->qiskit-machine-learning) (0.15.1)\n",
      "Requirement already satisfied: sympy>=1.3 in /opt/conda/lib/python3.10/site-packages (from qiskit>=1.0->qiskit-machine-learning) (1.13.3)\n",
      "Requirement already satisfied: python-dateutil>=2.8.0 in /opt/conda/lib/python3.10/site-packages (from qiskit>=1.0->qiskit-machine-learning) (2.9.0.post0)\n",
      "Requirement already satisfied: stevedore>=3.0.0 in /opt/conda/lib/python3.10/site-packages (from qiskit>=1.0->qiskit-machine-learning) (5.4.0)\n",
      "Requirement already satisfied: typing-extensions in /opt/conda/lib/python3.10/site-packages (from qiskit>=1.0->qiskit-machine-learning) (4.12.2)\n",
      "Requirement already satisfied: symengine<0.14,>=0.11 in /opt/conda/lib/python3.10/site-packages (from qiskit>=1.0->qiskit-machine-learning) (0.13.0)\n",
      "Requirement already satisfied: joblib>=1.1.1 in /opt/conda/lib/python3.10/site-packages (from scikit-learn>=1.2->qiskit-machine-learning) (1.4.2)\n",
      "Requirement already satisfied: threadpoolctl>=2.0.0 in /opt/conda/lib/python3.10/site-packages (from scikit-learn>=1.2->qiskit-machine-learning) (3.5.0)\n",
      "Requirement already satisfied: six>=1.5 in /opt/conda/lib/python3.10/site-packages (from python-dateutil>=2.8.0->qiskit>=1.0->qiskit-machine-learning) (1.16.0)\n",
      "Requirement already satisfied: pbr>=2.0.0 in /opt/conda/lib/python3.10/site-packages (from stevedore>=3.0.0->qiskit>=1.0->qiskit-machine-learning) (6.1.0)\n",
      "Requirement already satisfied: mpmath<1.4,>=1.1.0 in /opt/conda/lib/python3.10/site-packages (from sympy>=1.3->qiskit>=1.0->qiskit-machine-learning) (1.3.0)\n",
      "Downloading qiskit_machine_learning-0.8.1-py3-none-any.whl (231 kB)\n",
      "\u001b[2K   \u001b[90m━━━━━━━━━━━━━━━━━━━━━━━━━━━━━━━━━━━━━━━━\u001b[0m \u001b[32m231.1/231.1 kB\u001b[0m \u001b[31m4.7 MB/s\u001b[0m eta \u001b[36m0:00:00\u001b[0ma \u001b[36m0:00:01\u001b[0m\n",
      "\u001b[?25hInstalling collected packages: qiskit-machine-learning\n",
      "Successfully installed qiskit-machine-learning-0.8.1\n",
      "Requirement already satisfied: qiskit[visualization] in /opt/conda/lib/python3.10/site-packages (1.3.0)\n",
      "Requirement already satisfied: rustworkx>=0.15.0 in /opt/conda/lib/python3.10/site-packages (from qiskit[visualization]) (0.15.1)\n",
      "Requirement already satisfied: numpy<3,>=1.17 in /opt/conda/lib/python3.10/site-packages (from qiskit[visualization]) (1.26.4)\n",
      "Requirement already satisfied: scipy>=1.5 in /opt/conda/lib/python3.10/site-packages (from qiskit[visualization]) (1.14.1)\n",
      "Requirement already satisfied: sympy>=1.3 in /opt/conda/lib/python3.10/site-packages (from qiskit[visualization]) (1.13.3)\n",
      "Requirement already satisfied: dill>=0.3 in /opt/conda/lib/python3.10/site-packages (from qiskit[visualization]) (0.3.8)\n",
      "Requirement already satisfied: python-dateutil>=2.8.0 in /opt/conda/lib/python3.10/site-packages (from qiskit[visualization]) (2.9.0.post0)\n",
      "Requirement already satisfied: stevedore>=3.0.0 in /opt/conda/lib/python3.10/site-packages (from qiskit[visualization]) (5.4.0)\n",
      "Requirement already satisfied: typing-extensions in /opt/conda/lib/python3.10/site-packages (from qiskit[visualization]) (4.12.2)\n",
      "Requirement already satisfied: symengine<0.14,>=0.11 in /opt/conda/lib/python3.10/site-packages (from qiskit[visualization]) (0.13.0)\n",
      "Requirement already satisfied: matplotlib>=3.3 in /opt/conda/lib/python3.10/site-packages (from qiskit[visualization]) (3.7.5)\n",
      "Requirement already satisfied: pydot in /opt/conda/lib/python3.10/site-packages (from qiskit[visualization]) (1.4.2)\n",
      "Requirement already satisfied: Pillow>=4.2.1 in /opt/conda/lib/python3.10/site-packages (from qiskit[visualization]) (10.3.0)\n",
      "Collecting pylatexenc>=1.4 (from qiskit[visualization])\n",
      "  Downloading pylatexenc-2.10.tar.gz (162 kB)\n",
      "\u001b[2K     \u001b[90m━━━━━━━━━━━━━━━━━━━━━━━━━━━━━━━━━━━━━━━\u001b[0m \u001b[32m162.6/162.6 kB\u001b[0m \u001b[31m3.7 MB/s\u001b[0m eta \u001b[36m0:00:00\u001b[0ma \u001b[36m0:00:01\u001b[0m\n",
      "\u001b[?25h  Preparing metadata (setup.py) ... \u001b[?25ldone\n",
      "\u001b[?25hRequirement already satisfied: seaborn>=0.9.0 in /opt/conda/lib/python3.10/site-packages (from qiskit[visualization]) (0.12.2)\n",
      "Requirement already satisfied: contourpy>=1.0.1 in /opt/conda/lib/python3.10/site-packages (from matplotlib>=3.3->qiskit[visualization]) (1.2.1)\n",
      "Requirement already satisfied: cycler>=0.10 in /opt/conda/lib/python3.10/site-packages (from matplotlib>=3.3->qiskit[visualization]) (0.12.1)\n",
      "Requirement already satisfied: fonttools>=4.22.0 in /opt/conda/lib/python3.10/site-packages (from matplotlib>=3.3->qiskit[visualization]) (4.53.0)\n",
      "Requirement already satisfied: kiwisolver>=1.0.1 in /opt/conda/lib/python3.10/site-packages (from matplotlib>=3.3->qiskit[visualization]) (1.4.5)\n",
      "Requirement already satisfied: packaging>=20.0 in /opt/conda/lib/python3.10/site-packages (from matplotlib>=3.3->qiskit[visualization]) (21.3)\n",
      "Requirement already satisfied: pyparsing>=2.3.1 in /opt/conda/lib/python3.10/site-packages (from matplotlib>=3.3->qiskit[visualization]) (3.1.2)\n",
      "Requirement already satisfied: six>=1.5 in /opt/conda/lib/python3.10/site-packages (from python-dateutil>=2.8.0->qiskit[visualization]) (1.16.0)\n",
      "Requirement already satisfied: pandas>=0.25 in /opt/conda/lib/python3.10/site-packages (from seaborn>=0.9.0->qiskit[visualization]) (2.2.2)\n",
      "Requirement already satisfied: pbr>=2.0.0 in /opt/conda/lib/python3.10/site-packages (from stevedore>=3.0.0->qiskit[visualization]) (6.1.0)\n",
      "Requirement already satisfied: mpmath<1.4,>=1.1.0 in /opt/conda/lib/python3.10/site-packages (from sympy>=1.3->qiskit[visualization]) (1.3.0)\n",
      "Requirement already satisfied: pytz>=2020.1 in /opt/conda/lib/python3.10/site-packages (from pandas>=0.25->seaborn>=0.9.0->qiskit[visualization]) (2024.1)\n",
      "Requirement already satisfied: tzdata>=2022.7 in /opt/conda/lib/python3.10/site-packages (from pandas>=0.25->seaborn>=0.9.0->qiskit[visualization]) (2024.1)\n",
      "Building wheels for collected packages: pylatexenc\n",
      "  Building wheel for pylatexenc (setup.py) ... \u001b[?25ldone\n",
      "\u001b[?25h  Created wheel for pylatexenc: filename=pylatexenc-2.10-py3-none-any.whl size=136816 sha256=e9f83571266774dc5f9f8c3837cb531e8e8fcc652a2d92887ef2e62e6477a671\n",
      "  Stored in directory: /root/.cache/pip/wheels/d3/31/8b/e09b0386afd80cfc556c00408c9aeea5c35c4d484a9c762fd5\n",
      "Successfully built pylatexenc\n",
      "Installing collected packages: pylatexenc\n",
      "Successfully installed pylatexenc-2.10\n",
      "Collecting qiskit-aer\n",
      "  Downloading qiskit_aer-0.15.1-cp310-cp310-manylinux_2_17_x86_64.manylinux2014_x86_64.whl.metadata (8.0 kB)\n",
      "Requirement already satisfied: qiskit>=1.1.0 in /opt/conda/lib/python3.10/site-packages (from qiskit-aer) (1.3.0)\n",
      "Requirement already satisfied: numpy>=1.16.3 in /opt/conda/lib/python3.10/site-packages (from qiskit-aer) (1.26.4)\n",
      "Requirement already satisfied: scipy>=1.0 in /opt/conda/lib/python3.10/site-packages (from qiskit-aer) (1.14.1)\n",
      "Requirement already satisfied: psutil>=5 in /opt/conda/lib/python3.10/site-packages (from qiskit-aer) (5.9.3)\n",
      "Requirement already satisfied: rustworkx>=0.15.0 in /opt/conda/lib/python3.10/site-packages (from qiskit>=1.1.0->qiskit-aer) (0.15.1)\n",
      "Requirement already satisfied: sympy>=1.3 in /opt/conda/lib/python3.10/site-packages (from qiskit>=1.1.0->qiskit-aer) (1.13.3)\n",
      "Requirement already satisfied: dill>=0.3 in /opt/conda/lib/python3.10/site-packages (from qiskit>=1.1.0->qiskit-aer) (0.3.8)\n",
      "Requirement already satisfied: python-dateutil>=2.8.0 in /opt/conda/lib/python3.10/site-packages (from qiskit>=1.1.0->qiskit-aer) (2.9.0.post0)\n",
      "Requirement already satisfied: stevedore>=3.0.0 in /opt/conda/lib/python3.10/site-packages (from qiskit>=1.1.0->qiskit-aer) (5.4.0)\n",
      "Requirement already satisfied: typing-extensions in /opt/conda/lib/python3.10/site-packages (from qiskit>=1.1.0->qiskit-aer) (4.12.2)\n",
      "Requirement already satisfied: symengine<0.14,>=0.11 in /opt/conda/lib/python3.10/site-packages (from qiskit>=1.1.0->qiskit-aer) (0.13.0)\n",
      "Requirement already satisfied: six>=1.5 in /opt/conda/lib/python3.10/site-packages (from python-dateutil>=2.8.0->qiskit>=1.1.0->qiskit-aer) (1.16.0)\n",
      "Requirement already satisfied: pbr>=2.0.0 in /opt/conda/lib/python3.10/site-packages (from stevedore>=3.0.0->qiskit>=1.1.0->qiskit-aer) (6.1.0)\n",
      "Requirement already satisfied: mpmath<1.4,>=1.1.0 in /opt/conda/lib/python3.10/site-packages (from sympy>=1.3->qiskit>=1.1.0->qiskit-aer) (1.3.0)\n",
      "Downloading qiskit_aer-0.15.1-cp310-cp310-manylinux_2_17_x86_64.manylinux2014_x86_64.whl (12.3 MB)\n",
      "\u001b[2K   \u001b[90m━━━━━━━━━━━━━━━━━━━━━━━━━━━━━━━━━━━━━━━━\u001b[0m \u001b[32m12.3/12.3 MB\u001b[0m \u001b[31m88.5 MB/s\u001b[0m eta \u001b[36m0:00:00\u001b[0m:00:01\u001b[0m:01\u001b[0m\n",
      "\u001b[?25hInstalling collected packages: qiskit-aer\n",
      "Successfully installed qiskit-aer-0.15.1\n"
     ]
    }
   ],
   "source": [
    "!pip install qiskit\n",
    "!pip install qiskit-machine-learning\n",
    "!pip install qiskit[visualization]\n",
    "!pip install qiskit-aer"
   ]
  },
  {
   "cell_type": "code",
   "execution_count": 2,
   "metadata": {
    "_cell_guid": "b1076dfc-b9ad-4769-8c92-a6c4dae69d19",
    "_uuid": "8f2839f25d086af736a60e9eeb907d3b93b6e0e5",
    "execution": {
     "iopub.execute_input": "2024-12-12T06:31:00.523069Z",
     "iopub.status.busy": "2024-12-12T06:31:00.522769Z",
     "iopub.status.idle": "2024-12-12T06:31:00.869928Z",
     "shell.execute_reply": "2024-12-12T06:31:00.869079Z",
     "shell.execute_reply.started": "2024-12-12T06:31:00.523040Z"
    },
    "trusted": true
   },
   "outputs": [
    {
     "name": "stdout",
     "output_type": "stream",
     "text": [
      "/kaggle/input/data-dnai1/I1.txt\n"
     ]
    }
   ],
   "source": [
    "# This Python 3 environment comes with many helpful analytics libraries installed\n",
    "# It is defined by the kaggle/python Docker image: https://github.com/kaggle/docker-python\n",
    "# For example, here's several helpful packages to load\n",
    "\n",
    "import numpy as np # linear algebra\n",
    "import pandas as pd # data processing, CSV file I/O (e.g. pd.read_csv)\n",
    "\n",
    "# Input data files are available in the read-only \"../input/\" directory\n",
    "# For example, running this (by clicking run or pressing Shift+Enter) will list all files under the input directory\n",
    "\n",
    "import os\n",
    "for dirname, _, filenames in os.walk('/kaggle/input'):\n",
    "    for filename in filenames:\n",
    "        print(os.path.join(dirname, filename))\n",
    "\n",
    "# You can write up to 20GB to the current directory (/kaggle/working/) that gets preserved as output when you create a version using \"Save & Run All\" \n",
    "# You can also write temporary files to /kaggle/temp/, but they won't be saved outside of the current session"
   ]
  },
  {
   "cell_type": "code",
   "execution_count": 3,
   "metadata": {
    "execution": {
     "iopub.execute_input": "2024-12-12T06:31:00.871243Z",
     "iopub.status.busy": "2024-12-12T06:31:00.870928Z",
     "iopub.status.idle": "2024-12-12T06:31:01.915622Z",
     "shell.execute_reply": "2024-12-12T06:31:01.914698Z",
     "shell.execute_reply.started": "2024-12-12T06:31:00.871220Z"
    },
    "trusted": true
   },
   "outputs": [
    {
     "data": {
      "text/html": [
       "<div>\n",
       "<style scoped>\n",
       "    .dataframe tbody tr th:only-of-type {\n",
       "        vertical-align: middle;\n",
       "    }\n",
       "\n",
       "    .dataframe tbody tr th {\n",
       "        vertical-align: top;\n",
       "    }\n",
       "\n",
       "    .dataframe thead th {\n",
       "        text-align: right;\n",
       "    }\n",
       "</style>\n",
       "<table border=\"1\" class=\"dataframe\">\n",
       "  <thead>\n",
       "    <tr style=\"text-align: right;\">\n",
       "      <th></th>\n",
       "      <th>sgRNA_sequence</th>\n",
       "      <th>target_DNA_sequence</th>\n",
       "      <th>off_target_activity</th>\n",
       "    </tr>\n",
       "  </thead>\n",
       "  <tbody>\n",
       "    <tr>\n",
       "      <th>0</th>\n",
       "      <td>G_AGTCCGAGCAGAAGAAGAAAGG</td>\n",
       "      <td>GGAGTCCGTGCAGAAGCAGGAAGC</td>\n",
       "      <td>0.0</td>\n",
       "    </tr>\n",
       "    <tr>\n",
       "      <th>1</th>\n",
       "      <td>G_AGTCCGAGCAGAAGAAGAAAGG</td>\n",
       "      <td>CAAGTCCGAGAAGAAGCAGAAAAG</td>\n",
       "      <td>0.0</td>\n",
       "    </tr>\n",
       "    <tr>\n",
       "      <th>2</th>\n",
       "      <td>G_AGTCCGAGCAGAAGAAGAAAGG</td>\n",
       "      <td>GAAGTCTTAGCAAAAGAAGAAAGC</td>\n",
       "      <td>0.0</td>\n",
       "    </tr>\n",
       "    <tr>\n",
       "      <th>3</th>\n",
       "      <td>G_AGTCCGAGCAGAAGAAGAAAGG</td>\n",
       "      <td>GAAGTCCGAGGAGAGGAAGAAAGG</td>\n",
       "      <td>0.0</td>\n",
       "    </tr>\n",
       "    <tr>\n",
       "      <th>4</th>\n",
       "      <td>G_AGTCCGAGCAGAAGAAGAAAGG</td>\n",
       "      <td>GAAGGCGGAGAAGAAGAAGAAATT</td>\n",
       "      <td>0.0</td>\n",
       "    </tr>\n",
       "  </tbody>\n",
       "</table>\n",
       "</div>"
      ],
      "text/plain": [
       "             sgRNA_sequence       target_DNA_sequence  off_target_activity\n",
       "0  G_AGTCCGAGCAGAAGAAGAAAGG  GGAGTCCGTGCAGAAGCAGGAAGC                  0.0\n",
       "1  G_AGTCCGAGCAGAAGAAGAAAGG  CAAGTCCGAGAAGAAGCAGAAAAG                  0.0\n",
       "2  G_AGTCCGAGCAGAAGAAGAAAGG  GAAGTCTTAGCAAAAGAAGAAAGC                  0.0\n",
       "3  G_AGTCCGAGCAGAAGAAGAAAGG  GAAGTCCGAGGAGAGGAAGAAAGG                  0.0\n",
       "4  G_AGTCCGAGCAGAAGAAGAAAGG  GAAGGCGGAGAAGAAGAAGAAATT                  0.0"
      ]
     },
     "execution_count": 3,
     "metadata": {},
     "output_type": "execute_result"
    }
   ],
   "source": [
    "import pandas as pd\n",
    "\n",
    "\n",
    "file_path = '/kaggle/input/data-dnai1/I1.txt'  \n",
    "\n",
    "\n",
    "df = pd.read_csv(file_path, delimiter=',', names=['sgRNA_sequence', 'target_DNA_sequence', 'off_target_activity'])\n",
    "\n",
    "\n",
    "df.head()\n"
   ]
  },
  {
   "cell_type": "code",
   "execution_count": 4,
   "metadata": {
    "execution": {
     "iopub.execute_input": "2024-12-12T06:31:01.917879Z",
     "iopub.status.busy": "2024-12-12T06:31:01.917572Z",
     "iopub.status.idle": "2024-12-12T06:31:01.992069Z",
     "shell.execute_reply": "2024-12-12T06:31:01.990944Z",
     "shell.execute_reply.started": "2024-12-12T06:31:01.917854Z"
    },
    "trusted": true
   },
   "outputs": [
    {
     "name": "stdout",
     "output_type": "stream",
     "text": [
      "<class 'pandas.core.frame.DataFrame'>\n",
      "RangeIndex: 584949 entries, 0 to 584948\n",
      "Data columns (total 3 columns):\n",
      " #   Column               Non-Null Count   Dtype  \n",
      "---  ------               --------------   -----  \n",
      " 0   sgRNA_sequence       584949 non-null  object \n",
      " 1   target_DNA_sequence  584949 non-null  object \n",
      " 2   off_target_activity  584949 non-null  float64\n",
      "dtypes: float64(1), object(2)\n",
      "memory usage: 13.4+ MB\n"
     ]
    }
   ],
   "source": [
    "df.info()"
   ]
  },
  {
   "cell_type": "code",
   "execution_count": 5,
   "metadata": {
    "execution": {
     "iopub.execute_input": "2024-12-12T06:31:01.993487Z",
     "iopub.status.busy": "2024-12-12T06:31:01.993196Z",
     "iopub.status.idle": "2024-12-12T06:31:02.635566Z",
     "shell.execute_reply": "2024-12-12T06:31:02.634596Z",
     "shell.execute_reply.started": "2024-12-12T06:31:01.993457Z"
    },
    "trusted": true
   },
   "outputs": [
    {
     "data": {
      "text/plain": [
       "sgRNA_sequence         0\n",
       "target_DNA_sequence    0\n",
       "off_target_activity    0\n",
       "dtype: int64"
      ]
     },
     "execution_count": 5,
     "metadata": {},
     "output_type": "execute_result"
    }
   ],
   "source": [
    "df.isnull().sum()"
   ]
  },
  {
   "cell_type": "code",
   "execution_count": 6,
   "metadata": {
    "execution": {
     "iopub.execute_input": "2024-12-12T06:31:02.636872Z",
     "iopub.status.busy": "2024-12-12T06:31:02.636563Z",
     "iopub.status.idle": "2024-12-12T06:31:02.662256Z",
     "shell.execute_reply": "2024-12-12T06:31:02.661349Z",
     "shell.execute_reply.started": "2024-12-12T06:31:02.636832Z"
    },
    "trusted": true
   },
   "outputs": [
    {
     "data": {
      "text/plain": [
       "count    584949.000000\n",
       "mean          0.012601\n",
       "std           0.111545\n",
       "min           0.000000\n",
       "25%           0.000000\n",
       "50%           0.000000\n",
       "75%           0.000000\n",
       "max           1.000000\n",
       "Name: off_target_activity, dtype: float64"
      ]
     },
     "execution_count": 6,
     "metadata": {},
     "output_type": "execute_result"
    }
   ],
   "source": [
    "df['off_target_activity'].describe()"
   ]
  },
  {
   "cell_type": "code",
   "execution_count": 7,
   "metadata": {
    "execution": {
     "iopub.execute_input": "2024-12-12T06:31:02.665178Z",
     "iopub.status.busy": "2024-12-12T06:31:02.664908Z",
     "iopub.status.idle": "2024-12-12T06:31:02.925890Z",
     "shell.execute_reply": "2024-12-12T06:31:02.925098Z",
     "shell.execute_reply.started": "2024-12-12T06:31:02.665152Z"
    },
    "trusted": true
   },
   "outputs": [
    {
     "data": {
      "image/png": "[encoded data removed]",
      "text/plain": [
       "<Figure size 600x400 with 1 Axes>"
      ]
     },
     "metadata": {},
     "output_type": "display_data"
    }
   ],
   "source": [
    "import matplotlib.pyplot as plt\n",
    "\n",
    "plt.figure(figsize=(6, 4))\n",
    "df['off_target_activity'].value_counts().plot(kind='bar', color=['skyblue', 'salmon'])\n",
    "plt.title('Distribusi Aktivitas Off-Target (0 vs 1)')\n",
    "plt.xlabel('Aktivitas Off-Target')\n",
    "plt.ylabel('Jumlah')\n",
    "plt.xticks(rotation=0)\n",
    "plt.show()\n"
   ]
  },
  {
   "cell_type": "code",
   "execution_count": 8,
   "metadata": {
    "execution": {
     "iopub.execute_input": "2024-12-12T06:31:02.927418Z",
     "iopub.status.busy": "2024-12-12T06:31:02.927092Z",
     "iopub.status.idle": "2024-12-12T06:31:02.938265Z",
     "shell.execute_reply": "2024-12-12T06:31:02.937431Z",
     "shell.execute_reply.started": "2024-12-12T06:31:02.927382Z"
    },
    "trusted": true
   },
   "outputs": [
    {
     "data": {
      "text/plain": [
       "off_target_activity\n",
       "0.0    577578\n",
       "1.0      7371\n",
       "Name: count, dtype: int64"
      ]
     },
     "execution_count": 8,
     "metadata": {},
     "output_type": "execute_result"
    }
   ],
   "source": [
    "df['off_target_activity'].value_counts()"
   ]
  },
  {
   "cell_type": "code",
   "execution_count": 9,
   "metadata": {
    "execution": {
     "iopub.execute_input": "2024-12-12T06:31:02.939630Z",
     "iopub.status.busy": "2024-12-12T06:31:02.939384Z",
     "iopub.status.idle": "2024-12-12T06:31:02.999106Z",
     "shell.execute_reply": "2024-12-12T06:31:02.998223Z",
     "shell.execute_reply.started": "2024-12-12T06:31:02.939600Z"
    },
    "trusted": true
   },
   "outputs": [
    {
     "name": "stdout",
     "output_type": "stream",
     "text": [
      "{'Total Entries': 14742, 'Label Counts': off_target_activity\n",
      "1.0    7371\n",
      "0.0    7371\n",
      "Name: count, dtype: int64}\n"
     ]
    }
   ],
   "source": [
    "# Separate the data into two groups based on 'off_target_activity'\n",
    "df_0 = df[df[\"off_target_activity\"] == 0]\n",
    "df_1 = df[df[\"off_target_activity\"] == 1]\n",
    "\n",
    "# Randomly sample 7371 entries from group 0 to match the size of group 1\n",
    "sampled_df_0 = df_0.sample(n=7371, random_state=42)\n",
    "\n",
    "# Combine the two groups into a balanced dataset\n",
    "balanced_df = pd.concat([sampled_df_0, df_1], axis=0).sample(frac=1, random_state=42)\n",
    "balanced_df_Q = pd.concat([sampled_df_0, df_1], axis=0).sample(frac=1, random_state=42)\n",
    "\n",
    "# Display the size of the balanced dataset and label counts\n",
    "balanced_df_info = {\n",
    "    \"Total Entries\": len(balanced_df),\n",
    "    \"Label Counts\": balanced_df[\"off_target_activity\"].value_counts()\n",
    "}\n",
    "\n",
    "# Optional: print the balanced dataset info\n",
    "print(balanced_df_info)"
   ]
  },
  {
   "cell_type": "code",
   "execution_count": 10,
   "metadata": {
    "execution": {
     "iopub.execute_input": "2024-12-12T06:31:03.003041Z",
     "iopub.status.busy": "2024-12-12T06:31:03.002801Z",
     "iopub.status.idle": "2024-12-12T06:31:03.012318Z",
     "shell.execute_reply": "2024-12-12T06:31:03.011434Z",
     "shell.execute_reply.started": "2024-12-12T06:31:03.003017Z"
    },
    "trusted": true
   },
   "outputs": [
    {
     "data": {
      "text/html": [
       "<div>\n",
       "<style scoped>\n",
       "    .dataframe tbody tr th:only-of-type {\n",
       "        vertical-align: middle;\n",
       "    }\n",
       "\n",
       "    .dataframe tbody tr th {\n",
       "        vertical-align: top;\n",
       "    }\n",
       "\n",
       "    .dataframe thead th {\n",
       "        text-align: right;\n",
       "    }\n",
       "</style>\n",
       "<table border=\"1\" class=\"dataframe\">\n",
       "  <thead>\n",
       "    <tr style=\"text-align: right;\">\n",
       "      <th></th>\n",
       "      <th>sgRNA_sequence</th>\n",
       "      <th>target_DNA_sequence</th>\n",
       "      <th>off_target_activity</th>\n",
       "    </tr>\n",
       "  </thead>\n",
       "  <tbody>\n",
       "    <tr>\n",
       "      <th>579719</th>\n",
       "      <td>-GAACACAAAGCATAGACTGCAGG</td>\n",
       "      <td>-GAATTTAAAGCATAGACTGCAAG</td>\n",
       "      <td>1.0</td>\n",
       "    </tr>\n",
       "    <tr>\n",
       "      <th>578221</th>\n",
       "      <td>-GGCACTGCGGCTGGAGGTGGTGG</td>\n",
       "      <td>-GTTACTGTGGCTGGAAGTGGTGG</td>\n",
       "      <td>1.0</td>\n",
       "    </tr>\n",
       "    <tr>\n",
       "      <th>578803</th>\n",
       "      <td>-GGCACTGCGGCTGGAGGTGGGGG</td>\n",
       "      <td>-AAGACTGTGGCGGGGGGTGGGGG</td>\n",
       "      <td>1.0</td>\n",
       "    </tr>\n",
       "    <tr>\n",
       "      <th>51351</th>\n",
       "      <td>-GGCCCAGACTGAGCACGTGAGGG</td>\n",
       "      <td>-GGCCAAGACTGA_CACCTGGGGG</td>\n",
       "      <td>0.0</td>\n",
       "    </tr>\n",
       "    <tr>\n",
       "      <th>581417</th>\n",
       "      <td>-GACCCCCTCCACCCCGCCTCAGG</td>\n",
       "      <td>-CACCCACCCCACCCGGCCTCAGG</td>\n",
       "      <td>1.0</td>\n",
       "    </tr>\n",
       "  </tbody>\n",
       "</table>\n",
       "</div>"
      ],
      "text/plain": [
       "                  sgRNA_sequence       target_DNA_sequence  \\\n",
       "579719  -GAACACAAAGCATAGACTGCAGG  -GAATTTAAAGCATAGACTGCAAG   \n",
       "578221  -GGCACTGCGGCTGGAGGTGGTGG  -GTTACTGTGGCTGGAAGTGGTGG   \n",
       "578803  -GGCACTGCGGCTGGAGGTGGGGG  -AAGACTGTGGCGGGGGGTGGGGG   \n",
       "51351   -GGCCCAGACTGAGCACGTGAGGG  -GGCCAAGACTGA_CACCTGGGGG   \n",
       "581417  -GACCCCCTCCACCCCGCCTCAGG  -CACCCACCCCACCCGGCCTCAGG   \n",
       "\n",
       "        off_target_activity  \n",
       "579719                  1.0  \n",
       "578221                  1.0  \n",
       "578803                  1.0  \n",
       "51351                   0.0  \n",
       "581417                  1.0  "
      ]
     },
     "execution_count": 10,
     "metadata": {},
     "output_type": "execute_result"
    }
   ],
   "source": [
    "balanced_df.head()"
   ]
  },
  {
   "cell_type": "code",
   "execution_count": 11,
   "metadata": {
    "execution": {
     "iopub.execute_input": "2024-12-12T06:31:03.013633Z",
     "iopub.status.busy": "2024-12-12T06:31:03.013378Z",
     "iopub.status.idle": "2024-12-12T06:31:04.311309Z",
     "shell.execute_reply": "2024-12-12T06:31:04.310472Z",
     "shell.execute_reply.started": "2024-12-12T06:31:03.013607Z"
    },
    "trusted": true
   },
   "outputs": [
    {
     "name": "stdout",
     "output_type": "stream",
     "text": [
      "              precision    recall  f1-score   support\n",
      "\n",
      "         0.0       0.78      0.75      0.76      1456\n",
      "         1.0       0.76      0.80      0.78      1493\n",
      "\n",
      "    accuracy                           0.77      2949\n",
      "   macro avg       0.77      0.77      0.77      2949\n",
      "weighted avg       0.77      0.77      0.77      2949\n",
      "\n"
     ]
    }
   ],
   "source": [
    "import pandas as pd\n",
    "from sklearn.feature_extraction.text import TfidfVectorizer\n",
    "from sklearn.model_selection import train_test_split\n",
    "from sklearn.linear_model import LogisticRegression\n",
    "from sklearn.metrics import classification_report\n",
    "\n",
    "# Menggunakan TfidfVectorizer untuk mengubah 'sgRNA_sequence' menjadi fitur numerik\n",
    "vectorizer_sgRNA = TfidfVectorizer(analyzer='char', ngram_range=(1, 2))  # Menggunakan karakter dan bigram\n",
    "X_sgRNA = vectorizer_sgRNA.fit_transform(balanced_df['sgRNA_sequence'])\n",
    "\n",
    "# Menggunakan TfidfVectorizer untuk mengubah 'target_DNA_sequence' menjadi fitur numerik\n",
    "vectorizer_target = TfidfVectorizer(analyzer='char', ngram_range=(1, 2))  # Menggunakan karakter dan bigram\n",
    "X_target = vectorizer_target.fit_transform(balanced_df['target_DNA_sequence'])\n",
    "\n",
    "# Menggabungkan fitur dari kedua sekuens DNA\n",
    "from scipy.sparse import hstack\n",
    "X = hstack([X_sgRNA, X_target])\n",
    "\n",
    "# Target variabel\n",
    "y = balanced_df['off_target_activity']\n",
    "\n",
    "# Membagi data menjadi set pelatihan dan pengujian (80%-20%)\n",
    "X_train, X_test, y_train, y_test = train_test_split(X, y, test_size=0.2, random_state=42)\n",
    "\n",
    "# Membuat dan melatih model Logistic Regression\n",
    "model = LogisticRegression(max_iter=1000)\n",
    "model.fit(X_train, y_train)\n",
    "\n",
    "# Memprediksi hasil di data uji\n",
    "y_pred = model.predict(X_test)\n",
    "\n",
    "# Evaluasi model\n",
    "print(classification_report(y_test, y_pred))"
   ]
  },
  {
   "cell_type": "code",
   "execution_count": 12,
   "metadata": {
    "execution": {
     "iopub.execute_input": "2024-12-12T06:31:04.312723Z",
     "iopub.status.busy": "2024-12-12T06:31:04.312348Z",
     "iopub.status.idle": "2024-12-12T06:31:04.440478Z",
     "shell.execute_reply": "2024-12-12T06:31:04.439797Z",
     "shell.execute_reply.started": "2024-12-12T06:31:04.312694Z"
    },
    "trusted": true
   },
   "outputs": [],
   "source": [
    "import pandas as pd\n",
    "from sklearn.feature_extraction.text import CountVectorizer\n",
    "from sklearn.model_selection import train_test_split\n",
    "from sklearn.ensemble import RandomForestClassifier\n",
    "from sklearn.metrics import classification_report"
   ]
  },
  {
   "cell_type": "code",
   "execution_count": 13,
   "metadata": {
    "execution": {
     "iopub.execute_input": "2024-12-12T06:31:04.441770Z",
     "iopub.status.busy": "2024-12-12T06:31:04.441481Z",
     "iopub.status.idle": "2024-12-12T06:31:16.889074Z",
     "shell.execute_reply": "2024-12-12T06:31:16.888303Z",
     "shell.execute_reply.started": "2024-12-12T06:31:04.441744Z"
    },
    "trusted": true
   },
   "outputs": [
    {
     "name": "stdout",
     "output_type": "stream",
     "text": [
      "              precision    recall  f1-score   support\n",
      "\n",
      "         0.0       0.83      0.81      0.82      1456\n",
      "         1.0       0.82      0.84      0.83      1493\n",
      "\n",
      "    accuracy                           0.83      2949\n",
      "   macro avg       0.83      0.83      0.83      2949\n",
      "weighted avg       0.83      0.83      0.83      2949\n",
      "\n"
     ]
    }
   ],
   "source": [
    "# Membuat dan melatih model Random Forest\n",
    "model = RandomForestClassifier(n_estimators=100, random_state=42)\n",
    "model.fit(X_train, y_train)\n",
    "\n",
    "# Memprediksi hasil di data uji\n",
    "y_pred = model.predict(X_test)\n",
    "\n",
    "# Evaluasi model\n",
    "print(classification_report(y_test, y_pred))"
   ]
  },
  {
   "cell_type": "code",
   "execution_count": 14,
   "metadata": {
    "execution": {
     "iopub.execute_input": "2024-12-12T06:31:16.890608Z",
     "iopub.status.busy": "2024-12-12T06:31:16.890334Z",
     "iopub.status.idle": "2024-12-12T06:31:16.903056Z",
     "shell.execute_reply": "2024-12-12T06:31:16.902137Z",
     "shell.execute_reply.started": "2024-12-12T06:31:16.890581Z"
    },
    "trusted": true
   },
   "outputs": [
    {
     "name": "stdout",
     "output_type": "stream",
     "text": [
      "<class 'pandas.core.frame.DataFrame'>\n",
      "Index: 14742 entries, 579719 to 474741\n",
      "Data columns (total 3 columns):\n",
      " #   Column               Non-Null Count  Dtype  \n",
      "---  ------               --------------  -----  \n",
      " 0   sgRNA_sequence       14742 non-null  object \n",
      " 1   target_DNA_sequence  14742 non-null  object \n",
      " 2   off_target_activity  14742 non-null  float64\n",
      "dtypes: float64(1), object(2)\n",
      "memory usage: 460.7+ KB\n"
     ]
    }
   ],
   "source": [
    "balanced_df_Q.info()"
   ]
  },
  {
   "cell_type": "code",
   "execution_count": 15,
   "metadata": {
    "execution": {
     "iopub.execute_input": "2024-12-12T06:31:16.904347Z",
     "iopub.status.busy": "2024-12-12T06:31:16.904101Z",
     "iopub.status.idle": "2024-12-12T06:31:16.930454Z",
     "shell.execute_reply": "2024-12-12T06:31:16.929608Z",
     "shell.execute_reply.started": "2024-12-12T06:31:16.904323Z"
    },
    "trusted": true
   },
   "outputs": [
    {
     "data": {
      "text/plain": [
       "off_target_activity\n",
       "1.0    7371\n",
       "0.0    7371\n",
       "Name: count, dtype: int64"
      ]
     },
     "execution_count": 15,
     "metadata": {},
     "output_type": "execute_result"
    }
   ],
   "source": [
    "balanced_df_Q['off_target_activity'].value_counts()"
   ]
  },
  {
   "cell_type": "code",
   "execution_count": 16,
   "metadata": {
    "execution": {
     "iopub.execute_input": "2024-12-12T06:31:16.931784Z",
     "iopub.status.busy": "2024-12-12T06:31:16.931496Z",
     "iopub.status.idle": "2024-12-12T06:31:16.946098Z",
     "shell.execute_reply": "2024-12-12T06:31:16.945294Z",
     "shell.execute_reply.started": "2024-12-12T06:31:16.931759Z"
    },
    "trusted": true
   },
   "outputs": [
    {
     "data": {
      "text/html": [
       "<div>\n",
       "<style scoped>\n",
       "    .dataframe tbody tr th:only-of-type {\n",
       "        vertical-align: middle;\n",
       "    }\n",
       "\n",
       "    .dataframe tbody tr th {\n",
       "        vertical-align: top;\n",
       "    }\n",
       "\n",
       "    .dataframe thead th {\n",
       "        text-align: right;\n",
       "    }\n",
       "</style>\n",
       "<table border=\"1\" class=\"dataframe\">\n",
       "  <thead>\n",
       "    <tr style=\"text-align: right;\">\n",
       "      <th></th>\n",
       "      <th>sgRNA_sequence</th>\n",
       "      <th>target_DNA_sequence</th>\n",
       "      <th>off_target_activity</th>\n",
       "    </tr>\n",
       "  </thead>\n",
       "  <tbody>\n",
       "    <tr>\n",
       "      <th>579719</th>\n",
       "      <td>-GAACACAAAGCATAGACTGCAGG</td>\n",
       "      <td>-GAATTTAAAGCATAGACTGCAAG</td>\n",
       "      <td>1.0</td>\n",
       "    </tr>\n",
       "    <tr>\n",
       "      <th>578221</th>\n",
       "      <td>-GGCACTGCGGCTGGAGGTGGTGG</td>\n",
       "      <td>-GTTACTGTGGCTGGAAGTGGTGG</td>\n",
       "      <td>1.0</td>\n",
       "    </tr>\n",
       "    <tr>\n",
       "      <th>578803</th>\n",
       "      <td>-GGCACTGCGGCTGGAGGTGGGGG</td>\n",
       "      <td>-AAGACTGTGGCGGGGGGTGGGGG</td>\n",
       "      <td>1.0</td>\n",
       "    </tr>\n",
       "    <tr>\n",
       "      <th>51351</th>\n",
       "      <td>-GGCCCAGACTGAGCACGTGAGGG</td>\n",
       "      <td>-GGCCAAGACTGA_CACCTGGGGG</td>\n",
       "      <td>0.0</td>\n",
       "    </tr>\n",
       "    <tr>\n",
       "      <th>581417</th>\n",
       "      <td>-GACCCCCTCCACCCCGCCTCAGG</td>\n",
       "      <td>-CACCCACCCCACCCGGCCTCAGG</td>\n",
       "      <td>1.0</td>\n",
       "    </tr>\n",
       "    <tr>\n",
       "      <th>124398</th>\n",
       "      <td>-GAGTCCGAGCAGAAGAAGAAGGG</td>\n",
       "      <td>-GAGTTC_AGAAGAAGAAAAAGGG</td>\n",
       "      <td>0.0</td>\n",
       "    </tr>\n",
       "    <tr>\n",
       "      <th>578440</th>\n",
       "      <td>-GGCACTGCGGCTGGAGGTGGAGG</td>\n",
       "      <td>-GGCGCTGTGGCGGGAGGCGGAGG</td>\n",
       "      <td>1.0</td>\n",
       "    </tr>\n",
       "    <tr>\n",
       "      <th>583990</th>\n",
       "      <td>-GGGTGGGGGGAGTTTGCTCCAGG</td>\n",
       "      <td>-AAAGGGGGGAACTTTGCTCCAGG</td>\n",
       "      <td>1.0</td>\n",
       "    </tr>\n",
       "    <tr>\n",
       "      <th>577872</th>\n",
       "      <td>-GGCACTGCGGCTGGAGGTGGAGG</td>\n",
       "      <td>-GGCAATGCAGCTGGAACTGGAGG</td>\n",
       "      <td>1.0</td>\n",
       "    </tr>\n",
       "    <tr>\n",
       "      <th>374392</th>\n",
       "      <td>-GGGAAAGACCCAGCATCCGTCGG</td>\n",
       "      <td>-GCGAAAGAGCCAGACTCCGTCTT</td>\n",
       "      <td>0.0</td>\n",
       "    </tr>\n",
       "    <tr>\n",
       "      <th>575409</th>\n",
       "      <td>-GGCCCAGACTGAGCACGTGAAGG</td>\n",
       "      <td>-TGCCCTGCTTCAGCACCTGAAGG</td>\n",
       "      <td>0.0</td>\n",
       "    </tr>\n",
       "    <tr>\n",
       "      <th>580201</th>\n",
       "      <td>-GACCCCCTCCACCCCGCCTCCGG</td>\n",
       "      <td>-TCCGCCCCCCACCCCACCTCCGG</td>\n",
       "      <td>1.0</td>\n",
       "    </tr>\n",
       "    <tr>\n",
       "      <th>581246</th>\n",
       "      <td>-GACCCCCTCCACCCCGCCTCCGG</td>\n",
       "      <td>-CCCTTCCCCCACCCCACCTCCGG</td>\n",
       "      <td>1.0</td>\n",
       "    </tr>\n",
       "    <tr>\n",
       "      <th>486859</th>\n",
       "      <td>-GGGTGGGGGGAGTTTGCTCCTGG</td>\n",
       "      <td>-GGGGGGGGGGCAGTTGCTACTGC</td>\n",
       "      <td>0.0</td>\n",
       "    </tr>\n",
       "    <tr>\n",
       "      <th>580329</th>\n",
       "      <td>-GACCCCCTCCACCCCGCCTCTGG</td>\n",
       "      <td>-TCCCCTCCCCACCCCAACTCTGG</td>\n",
       "      <td>1.0</td>\n",
       "    </tr>\n",
       "    <tr>\n",
       "      <th>583602</th>\n",
       "      <td>-GGTGAGTGAGTGTGTGCGTGTGG</td>\n",
       "      <td>-TGTGTGTGAGTGTGGGCGTGTGG</td>\n",
       "      <td>1.0</td>\n",
       "    </tr>\n",
       "    <tr>\n",
       "      <th>334091</th>\n",
       "      <td>-GAACACAAAGCATAGACTGCTGG</td>\n",
       "      <td>-TAGTACAAAGGATATACTGCTGT</td>\n",
       "      <td>0.0</td>\n",
       "    </tr>\n",
       "    <tr>\n",
       "      <th>385908</th>\n",
       "      <td>-GGCACTGCGGCTGGAGGTGGAGG</td>\n",
       "      <td>-GGGAAGGGGGTTGGGGGTGGAGG</td>\n",
       "      <td>0.0</td>\n",
       "    </tr>\n",
       "    <tr>\n",
       "      <th>115281</th>\n",
       "      <td>GGTG_AGTGAGTGTGTGCGTGTGG</td>\n",
       "      <td>GGTGGAGTGGTTGTGTGTGTGTGT</td>\n",
       "      <td>0.0</td>\n",
       "    </tr>\n",
       "    <tr>\n",
       "      <th>70567</th>\n",
       "      <td>-GAACACAAAGCATAGACTGCTGG</td>\n",
       "      <td>-GAACACAAAG_ATAAAATGCTGT</td>\n",
       "      <td>0.0</td>\n",
       "    </tr>\n",
       "  </tbody>\n",
       "</table>\n",
       "</div>"
      ],
      "text/plain": [
       "                  sgRNA_sequence       target_DNA_sequence  \\\n",
       "579719  -GAACACAAAGCATAGACTGCAGG  -GAATTTAAAGCATAGACTGCAAG   \n",
       "578221  -GGCACTGCGGCTGGAGGTGGTGG  -GTTACTGTGGCTGGAAGTGGTGG   \n",
       "578803  -GGCACTGCGGCTGGAGGTGGGGG  -AAGACTGTGGCGGGGGGTGGGGG   \n",
       "51351   -GGCCCAGACTGAGCACGTGAGGG  -GGCCAAGACTGA_CACCTGGGGG   \n",
       "581417  -GACCCCCTCCACCCCGCCTCAGG  -CACCCACCCCACCCGGCCTCAGG   \n",
       "124398  -GAGTCCGAGCAGAAGAAGAAGGG  -GAGTTC_AGAAGAAGAAAAAGGG   \n",
       "578440  -GGCACTGCGGCTGGAGGTGGAGG  -GGCGCTGTGGCGGGAGGCGGAGG   \n",
       "583990  -GGGTGGGGGGAGTTTGCTCCAGG  -AAAGGGGGGAACTTTGCTCCAGG   \n",
       "577872  -GGCACTGCGGCTGGAGGTGGAGG  -GGCAATGCAGCTGGAACTGGAGG   \n",
       "374392  -GGGAAAGACCCAGCATCCGTCGG  -GCGAAAGAGCCAGACTCCGTCTT   \n",
       "575409  -GGCCCAGACTGAGCACGTGAAGG  -TGCCCTGCTTCAGCACCTGAAGG   \n",
       "580201  -GACCCCCTCCACCCCGCCTCCGG  -TCCGCCCCCCACCCCACCTCCGG   \n",
       "581246  -GACCCCCTCCACCCCGCCTCCGG  -CCCTTCCCCCACCCCACCTCCGG   \n",
       "486859  -GGGTGGGGGGAGTTTGCTCCTGG  -GGGGGGGGGGCAGTTGCTACTGC   \n",
       "580329  -GACCCCCTCCACCCCGCCTCTGG  -TCCCCTCCCCACCCCAACTCTGG   \n",
       "583602  -GGTGAGTGAGTGTGTGCGTGTGG  -TGTGTGTGAGTGTGGGCGTGTGG   \n",
       "334091  -GAACACAAAGCATAGACTGCTGG  -TAGTACAAAGGATATACTGCTGT   \n",
       "385908  -GGCACTGCGGCTGGAGGTGGAGG  -GGGAAGGGGGTTGGGGGTGGAGG   \n",
       "115281  GGTG_AGTGAGTGTGTGCGTGTGG  GGTGGAGTGGTTGTGTGTGTGTGT   \n",
       "70567   -GAACACAAAGCATAGACTGCTGG  -GAACACAAAG_ATAAAATGCTGT   \n",
       "\n",
       "        off_target_activity  \n",
       "579719                  1.0  \n",
       "578221                  1.0  \n",
       "578803                  1.0  \n",
       "51351                   0.0  \n",
       "581417                  1.0  \n",
       "124398                  0.0  \n",
       "578440                  1.0  \n",
       "583990                  1.0  \n",
       "577872                  1.0  \n",
       "374392                  0.0  \n",
       "575409                  0.0  \n",
       "580201                  1.0  \n",
       "581246                  1.0  \n",
       "486859                  0.0  \n",
       "580329                  1.0  \n",
       "583602                  1.0  \n",
       "334091                  0.0  \n",
       "385908                  0.0  \n",
       "115281                  0.0  \n",
       "70567                   0.0  "
      ]
     },
     "execution_count": 16,
     "metadata": {},
     "output_type": "execute_result"
    }
   ],
   "source": [
    "balanced_df_Q.head(20)"
   ]
  },
  {
   "cell_type": "code",
   "execution_count": 17,
   "metadata": {
    "execution": {
     "iopub.execute_input": "2024-12-12T06:31:16.947400Z",
     "iopub.status.busy": "2024-12-12T06:31:16.947111Z",
     "iopub.status.idle": "2024-12-12T06:31:17.284394Z",
     "shell.execute_reply": "2024-12-12T06:31:17.283429Z",
     "shell.execute_reply.started": "2024-12-12T06:31:16.947362Z"
    },
    "trusted": true
   },
   "outputs": [],
   "source": [
    "from sklearn.preprocessing import LabelEncoder\n",
    "import numpy as np\n",
    "\n",
    "# Fungsi untuk ekstrak k-mer dari sekuens DNA\n",
    "def extract_kmers(sequence, k=3):\n",
    "    kmers = [sequence[i:i+k] for i in range(len(sequence)-k+1)]\n",
    "    return kmers\n",
    "\n",
    "# Menggunakan LabelEncoder untuk mengubah k-mer menjadi angka\n",
    "def encode_kmers(kmers):\n",
    "    le = LabelEncoder()\n",
    "    le.fit(kmers)\n",
    "    return le.transform(kmers)\n",
    "\n",
    "def preprocess_sequences(df, k=3):\n",
    "    # List untuk menyimpan k-mer\n",
    "    sgRNA_kmers = []\n",
    "    target_kmers = []\n",
    "    \n",
    "    for i in range(len(df)):\n",
    "        # Ekstrak k-mer untuk setiap sekuens\n",
    "        sgRNA_kmers_seq = extract_kmers(df['sgRNA_sequence'].iloc[i], k)\n",
    "        target_kmers_seq = extract_kmers(df['target_DNA_sequence'].iloc[i], k)\n",
    "        \n",
    "        # Ambil nilai k-mer pertama (sesuaikan dengan panjang data)\n",
    "        if len(sgRNA_kmers_seq) > 0 and len(target_kmers_seq) > 0:\n",
    "            sgRNA_kmers.append(sgRNA_kmers_seq[0])  # Ambil k-mer pertama dari sgRNA\n",
    "            target_kmers.append(target_kmers_seq[0])  # Ambil k-mer pertama dari target\n",
    "\n",
    "    # Mengencode k-mer menjadi angka\n",
    "    sgRNA_kmers_encoded = encode_kmers(sgRNA_kmers)\n",
    "    target_kmers_encoded = encode_kmers(target_kmers)\n",
    "    \n",
    "    # Gabungkan fitur sgRNA dan target menjadi array\n",
    "    return np.column_stack((sgRNA_kmers_encoded, target_kmers_encoded))\n",
    "\n",
    "# Menyusun fitur dan label\n",
    "X_features = preprocess_sequences(balanced_df_Q)\n",
    "y_labels = balanced_df_Q['off_target_activity'].values\n"
   ]
  },
  {
   "cell_type": "code",
   "execution_count": 18,
   "metadata": {
    "execution": {
     "iopub.execute_input": "2024-12-12T06:31:17.286447Z",
     "iopub.status.busy": "2024-12-12T06:31:17.285624Z",
     "iopub.status.idle": "2024-12-12T06:31:17.290758Z",
     "shell.execute_reply": "2024-12-12T06:31:17.289939Z",
     "shell.execute_reply.started": "2024-12-12T06:31:17.286404Z"
    },
    "trusted": true
   },
   "outputs": [
    {
     "name": "stdout",
     "output_type": "stream",
     "text": [
      "X_features shape: (14742, 2)\n",
      "y_labels shape: (14742,)\n"
     ]
    }
   ],
   "source": [
    "print(f'X_features shape: {X_features.shape}')\n",
    "print(f'y_labels shape: {y_labels.shape}')"
   ]
  },
  {
   "cell_type": "code",
   "execution_count": 19,
   "metadata": {
    "execution": {
     "iopub.execute_input": "2024-12-12T06:31:17.292121Z",
     "iopub.status.busy": "2024-12-12T06:31:17.291817Z",
     "iopub.status.idle": "2024-12-12T06:31:17.308346Z",
     "shell.execute_reply": "2024-12-12T06:31:17.307619Z",
     "shell.execute_reply.started": "2024-12-12T06:31:17.292077Z"
    },
    "trusted": true
   },
   "outputs": [
    {
     "name": "stdout",
     "output_type": "stream",
     "text": [
      "X_train shape: (11793, 2)\n",
      "X_test shape: (2949, 2)\n",
      "Y_train shape: (11793,)\n",
      "Y_test shape: (2949,)\n"
     ]
    }
   ],
   "source": [
    "from sklearn.model_selection import train_test_split\n",
    "from sklearn.preprocessing import StandardScaler\n",
    "\n",
    "# Standarisasi fitur\n",
    "scaler = StandardScaler()\n",
    "X_scaled = scaler.fit_transform(X_features)\n",
    "\n",
    "# Membagi data menjadi set pelatihan dan pengujian\n",
    "X_train, X_test, y_train, y_test = train_test_split(X_scaled, y_labels, test_size=0.2, random_state=1)\n",
    "\n",
    "print(f'X_train shape: {X_train.shape}')\n",
    "print(f'X_test shape: {X_test.shape}')\n",
    "print(f'Y_train shape: {y_train.shape}')\n",
    "print(f'Y_test shape: {y_test.shape}')\n"
   ]
  },
  {
   "cell_type": "code",
   "execution_count": 20,
   "metadata": {
    "execution": {
     "iopub.execute_input": "2024-12-12T06:31:17.309489Z",
     "iopub.status.busy": "2024-12-12T06:31:17.309248Z",
     "iopub.status.idle": "2024-12-12T06:31:17.629391Z",
     "shell.execute_reply": "2024-12-12T06:31:17.628692Z",
     "shell.execute_reply.started": "2024-12-12T06:31:17.309465Z"
    },
    "trusted": true
   },
   "outputs": [],
   "source": [
    "import numpy as np\n",
    "from qiskit import QuantumCircuit\n",
    "from qiskit_aer import AerSimulator\n",
    "\n",
    "def amplitude_encoding(features, num_qubits):\n",
    "    \"\"\"\n",
    "    Encodes the features into quantum amplitude states.\n",
    "    \n",
    "    Args:\n",
    "      features: Feature vector (1D array).\n",
    "      num_qubits: Number of qubits to use in the quantum circuit.\n",
    "    \n",
    "    Returns:\n",
    "      QuantumCircuit: Quantum circuit encoding the feature vector.\n",
    "    \"\"\"\n",
    "    # Normalize the features\n",
    "    norm = np.linalg.norm(features)\n",
    "    normalized_features = features / norm\n",
    "\n",
    "    # Initialize quantum circuit\n",
    "    qc = QuantumCircuit(num_qubits)\n",
    "    qc.initialize(normalized_features, range(num_qubits))\n",
    "    return qc\n",
    "\n",
    "\n",
    "def encode_data(X, num_qubits):\n",
    "    \"\"\"\n",
    "    Encodes the entire dataset into quantum statevectors.\n",
    "    \"\"\"\n",
    "    simulator = AerSimulator()\n",
    "    encoded_data = []\n",
    "    desired_length = 2 ** num_qubits\n",
    "\n",
    "    for i in range(len(X)):\n",
    "        features = X[i]  # Using numpy array indexing\n",
    "\n",
    "        # Add padding if features length is less than 2^n\n",
    "        if len(features) < desired_length:\n",
    "            padded_features = np.pad(features, (0, desired_length - len(features)))\n",
    "        else:\n",
    "            padded_features = features[:desired_length]\n",
    "\n",
    "        # Encode the features\n",
    "        qc = amplitude_encoding(padded_features, num_qubits)\n",
    "        qc.save_statevector()\n",
    "\n",
    "        # Run the simulation\n",
    "        result = simulator.run(qc).result()\n",
    "        statevector = result.get_statevector()\n",
    "\n",
    "        encoded_data.append(statevector)\n",
    "\n",
    "    return encoded_data\n"
   ]
  },
  {
   "cell_type": "code",
   "execution_count": 21,
   "metadata": {
    "execution": {
     "iopub.execute_input": "2024-12-12T06:31:17.630773Z",
     "iopub.status.busy": "2024-12-12T06:31:17.630404Z",
     "iopub.status.idle": "2024-12-12T06:31:29.054829Z",
     "shell.execute_reply": "2024-12-12T06:31:29.053931Z",
     "shell.execute_reply.started": "2024-12-12T06:31:17.630745Z"
    },
    "trusted": true
   },
   "outputs": [],
   "source": [
    "# Menentukan jumlah qubit yang diperlukan (misalnya, jika memiliki 2 fitur numerik)\n",
    "num_qubits = 1  # Atur jumlah qubit sesuai dengan jumlah fitur numerik\n",
    "\n",
    "# Encode data pelatihan dan pengujian\n",
    "x_train_encoded = encode_data(X_train, num_qubits)\n",
    "x_test_encoded = encode_data(X_test, num_qubits)\n"
   ]
  },
  {
   "cell_type": "code",
   "execution_count": 22,
   "metadata": {
    "execution": {
     "iopub.execute_input": "2024-12-12T06:31:29.056158Z",
     "iopub.status.busy": "2024-12-12T06:31:29.055915Z",
     "iopub.status.idle": "2024-12-12T06:31:29.149008Z",
     "shell.execute_reply": "2024-12-12T06:31:29.148207Z",
     "shell.execute_reply.started": "2024-12-12T06:31:29.056135Z"
    },
    "trusted": true
   },
   "outputs": [
    {
     "name": "stdout",
     "output_type": "stream",
     "text": [
      "x_train_encoded shape: (11793, 2)\n",
      "x_test_encoded shape: (2949, 2)\n"
     ]
    },
    {
     "name": "stderr",
     "output_type": "stream",
     "text": [
      "/opt/conda/lib/python3.10/site-packages/qiskit/quantum_info/states/statevector.py:110: ComplexWarning: Casting complex values to real discards the imaginary part\n",
      "  return np.array(self.data, dtype=dtype, copy=copy)\n"
     ]
    }
   ],
   "source": [
    "# Pastikan data encoded dalam bentuk array dengan tipe float\n",
    "x_train_encoded = np.array(x_train_encoded, dtype=float)\n",
    "x_test_encoded = np.array(x_test_encoded, dtype=float)\n",
    "\n",
    "# Pastikan label dalam bentuk array 1D\n",
    "y_train = np.array(y_train).ravel()\n",
    "y_test = np.array(y_test).ravel()\n",
    "\n",
    "# Pastikan bentuknya sesuai (setiap sampel memiliki 2 fitur)\n",
    "print(f\"x_train_encoded shape: {np.array(x_train_encoded).shape}\")\n",
    "print(f\"x_test_encoded shape: {np.array(x_test_encoded).shape}\")"
   ]
  },
  {
   "cell_type": "code",
   "execution_count": 23,
   "metadata": {
    "execution": {
     "iopub.execute_input": "2024-12-12T06:31:29.150539Z",
     "iopub.status.busy": "2024-12-12T06:31:29.150185Z",
     "iopub.status.idle": "2024-12-12T06:31:29.154888Z",
     "shell.execute_reply": "2024-12-12T06:31:29.154026Z",
     "shell.execute_reply.started": "2024-12-12T06:31:29.150500Z"
    },
    "trusted": true
   },
   "outputs": [],
   "source": [
    "# # Menggunakan hanya 100 data pertama untuk pelatihan dan pengujian\n",
    "# x_train_encoded_100 = np.array(x_train_encoded[:100], dtype=float)\n",
    "# y_train_100 = np.array(y_train[:100]).ravel()  # Menggunakan bentuk satu dimensi\n",
    "\n",
    "# x_test_encoded_100 = np.array(x_test_encoded[:100], dtype=float)\n",
    "# y_test_100 = np.array(y_test[:100]).ravel()  # Menggunakan bentuk satu dimensi\n",
    "\n",
    "# # Pastikan bentuknya sesuai (setiap sampel memiliki 2 fitur)\n",
    "# print(f\"x_train_encoded_100 shape: {np.array(x_train_encoded_100).shape}\")\n",
    "# print(f\"x_test_encoded_100 shape: {np.array(x_test_encoded_100).shape}\")"
   ]
  },
  {
   "cell_type": "code",
   "execution_count": 24,
   "metadata": {
    "execution": {
     "iopub.execute_input": "2024-12-12T06:31:29.156306Z",
     "iopub.status.busy": "2024-12-12T06:31:29.155989Z",
     "iopub.status.idle": "2024-12-12T06:31:29.170428Z",
     "shell.execute_reply": "2024-12-12T06:31:29.169609Z",
     "shell.execute_reply.started": "2024-12-12T06:31:29.156263Z"
    },
    "trusted": true
   },
   "outputs": [
    {
     "name": "stdout",
     "output_type": "stream",
     "text": [
      "x_train_encoded_100 shape: (100, 2)\n",
      "y_train_100 shape: (100,), distribusi: (array([0., 1.]), array([50, 50]))\n",
      "x_test_encoded_100 shape: (100, 2)\n",
      "y_test_100 shape: (100,), distribusi: (array([0., 1.]), array([50, 50]))\n"
     ]
    }
   ],
   "source": [
    "# Mengambil data dengan target 0 dan 1 untuk pelatihan\n",
    "x_train_encoded_0 = x_train_encoded[y_train == 0]\n",
    "x_train_encoded_1 = x_train_encoded[y_train == 1]\n",
    "\n",
    "y_train_0 = y_train[y_train == 0]\n",
    "y_train_1 = y_train[y_train == 1]\n",
    "\n",
    "# Pilih 50 data pertama dari masing-masing kelas\n",
    "x_train_encoded_100 = np.concatenate([x_train_encoded_0[:50], x_train_encoded_1[:50]])\n",
    "y_train_100 = np.concatenate([y_train_0[:50], y_train_1[:50]])\n",
    "\n",
    "# Mengambil data dengan target 0 dan 1 untuk pengujian\n",
    "x_test_encoded_0 = x_test_encoded[y_test == 0]\n",
    "x_test_encoded_1 = x_test_encoded[y_test == 1]\n",
    "\n",
    "y_test_0 = y_test[y_test == 0]\n",
    "y_test_1 = y_test[y_test == 1]\n",
    "\n",
    "# Pilih 50 data pertama dari masing-masing kelas\n",
    "x_test_encoded_100= np.concatenate([x_test_encoded_0[:50], x_test_encoded_1[:50]])\n",
    "y_test_100 = np.concatenate([y_test_0[:50], y_test_1[:50]])\n",
    "\n",
    "# Verifikasi bentuk data dan distribusi target\n",
    "print(f\"x_train_encoded_100 shape: {x_train_encoded_100.shape}\")\n",
    "print(f\"y_train_100 shape: {y_train_100.shape}, distribusi: {np.unique(y_train_100, return_counts=True)}\")\n",
    "\n",
    "print(f\"x_test_encoded_100 shape: {x_test_encoded_100.shape}\")\n",
    "print(f\"y_test_100 shape: {y_test_100.shape}, distribusi: {np.unique(y_test_100, return_counts=True)}\")\n"
   ]
  },
  {
   "cell_type": "code",
   "execution_count": 25,
   "metadata": {
    "execution": {
     "iopub.execute_input": "2024-12-12T06:31:29.171786Z",
     "iopub.status.busy": "2024-12-12T06:31:29.171438Z",
     "iopub.status.idle": "2024-12-12T06:31:37.791110Z",
     "shell.execute_reply": "2024-12-12T06:31:37.790026Z",
     "shell.execute_reply.started": "2024-12-12T06:31:29.171750Z"
    },
    "trusted": true
   },
   "outputs": [
    {
     "name": "stdout",
     "output_type": "stream",
     "text": [
      "Collecting qiskit-algorithms\n",
      "  Downloading qiskit_algorithms-0.3.1-py3-none-any.whl.metadata (4.2 kB)\n",
      "Requirement already satisfied: qiskit>=0.44 in /opt/conda/lib/python3.10/site-packages (from qiskit-algorithms) (1.3.0)\n",
      "Requirement already satisfied: scipy>=1.4 in /opt/conda/lib/python3.10/site-packages (from qiskit-algorithms) (1.14.1)\n",
      "Requirement already satisfied: numpy>=1.17 in /opt/conda/lib/python3.10/site-packages (from qiskit-algorithms) (1.26.4)\n",
      "Requirement already satisfied: rustworkx>=0.15.0 in /opt/conda/lib/python3.10/site-packages (from qiskit>=0.44->qiskit-algorithms) (0.15.1)\n",
      "Requirement already satisfied: sympy>=1.3 in /opt/conda/lib/python3.10/site-packages (from qiskit>=0.44->qiskit-algorithms) (1.13.3)\n",
      "Requirement already satisfied: dill>=0.3 in /opt/conda/lib/python3.10/site-packages (from qiskit>=0.44->qiskit-algorithms) (0.3.8)\n",
      "Requirement already satisfied: python-dateutil>=2.8.0 in /opt/conda/lib/python3.10/site-packages (from qiskit>=0.44->qiskit-algorithms) (2.9.0.post0)\n",
      "Requirement already satisfied: stevedore>=3.0.0 in /opt/conda/lib/python3.10/site-packages (from qiskit>=0.44->qiskit-algorithms) (5.4.0)\n",
      "Requirement already satisfied: typing-extensions in /opt/conda/lib/python3.10/site-packages (from qiskit>=0.44->qiskit-algorithms) (4.12.2)\n",
      "Requirement already satisfied: symengine<0.14,>=0.11 in /opt/conda/lib/python3.10/site-packages (from qiskit>=0.44->qiskit-algorithms) (0.13.0)\n",
      "Requirement already satisfied: six>=1.5 in /opt/conda/lib/python3.10/site-packages (from python-dateutil>=2.8.0->qiskit>=0.44->qiskit-algorithms) (1.16.0)\n",
      "Requirement already satisfied: pbr>=2.0.0 in /opt/conda/lib/python3.10/site-packages (from stevedore>=3.0.0->qiskit>=0.44->qiskit-algorithms) (6.1.0)\n",
      "Requirement already satisfied: mpmath<1.4,>=1.1.0 in /opt/conda/lib/python3.10/site-packages (from sympy>=1.3->qiskit>=0.44->qiskit-algorithms) (1.3.0)\n",
      "Downloading qiskit_algorithms-0.3.1-py3-none-any.whl (310 kB)\n",
      "\u001b[2K   \u001b[90m━━━━━━━━━━━━━━━━━━━━━━━━━━━━━━━━━━━━━━━━\u001b[0m \u001b[32m310.5/310.5 kB\u001b[0m \u001b[31m5.5 MB/s\u001b[0m eta \u001b[36m0:00:00\u001b[0ma \u001b[36m0:00:01\u001b[0m\n",
      "\u001b[?25hInstalling collected packages: qiskit-algorithms\n",
      "Successfully installed qiskit-algorithms-0.3.1\n"
     ]
    }
   ],
   "source": [
    "!pip install qiskit-algorithms"
   ]
  },
  {
   "cell_type": "code",
   "execution_count": 26,
   "metadata": {
    "execution": {
     "iopub.execute_input": "2024-12-12T06:31:37.793046Z",
     "iopub.status.busy": "2024-12-12T06:31:37.792744Z",
     "iopub.status.idle": "2024-12-12T06:31:37.798858Z",
     "shell.execute_reply": "2024-12-12T06:31:37.797991Z",
     "shell.execute_reply.started": "2024-12-12T06:31:37.793019Z"
    },
    "trusted": true
   },
   "outputs": [],
   "source": [
    "# from qiskit.circuit.library import ZZFeatureMap, RealAmplitudes\n",
    "# from qiskit_machine_learning.algorithms import VQC\n",
    "# from qiskit.primitives import Sampler\n",
    "# from sklearn.model_selection import ParameterGrid\n",
    "# from qiskit_algorithms.optimizers import SPSA\n",
    "# import numpy as np\n",
    "\n",
    "# # Parameter grid untuk tuning\n",
    "# param_grid = {\n",
    "#     'feature_map_reps': [2],\n",
    "#     'ansatz_reps': [2],\n",
    "#     'maxiter': [100]\n",
    "# }\n",
    "\n",
    "# # Variabel untuk melacak hasil tuning dan nilai loss per parameter\n",
    "# best_score = 0\n",
    "# best_params = {}\n",
    "# tuning_results = []\n",
    "# loss_values_dict = {}  # Dictionary untuk menyimpan loss per parameter\n",
    "\n",
    "# # Melakukan grid search untuk kombinasi terbaik\n",
    "# for params in ParameterGrid(param_grid):\n",
    "#     feature_map = ZZFeatureMap(feature_dimension=2, reps=params['feature_map_reps'])  # Menggunakan 2 fitur untuk encoding\n",
    "#     ansatz = RealAmplitudes(num_qubits=2, reps=params['ansatz_reps'])  # Menggunakan 2 qubit untuk data 2 fitur\n",
    "\n",
    "#     # Sampler dan Optimizer\n",
    "#     sampler = Sampler()\n",
    "#     optimizer = SPSA(maxiter=params['maxiter'])\n",
    "\n",
    "#     # Callback untuk melacak loss\n",
    "#     loss_per_iteration = []\n",
    "#     def callback(weights, loss):\n",
    "#         print(f\"Loss: {loss}\")\n",
    "#         loss_per_iteration.append(loss)\n",
    "\n",
    "#     # Konfigurasi VQC\n",
    "#     vqc = VQC(\n",
    "#         num_qubits=2,  # Menggunakan 2 qubit\n",
    "#         feature_map=feature_map,\n",
    "#         ansatz=ansatz,\n",
    "#         optimizer=optimizer,\n",
    "#         sampler=sampler,\n",
    "#         callback=callback\n",
    "#     )\n",
    "\n",
    "#     # Latih model dengan data yang telah dipilih\n",
    "#     vqc.fit(x_train_encoded, y_train)\n",
    "\n",
    "#     # Evaluasi model pada data uji\n",
    "#     score = vqc.score(x_test_encoded_100, y_test_100)\n",
    "#     print(f\"Params: {params}, Test Accuracy: {score}\")\n",
    "\n",
    "#     # Simpan hasil tuning dan loss\n",
    "#     tuning_results.append({\n",
    "#         'feature_map_reps': params['feature_map_reps'],\n",
    "#         'ansatz_reps': params['ansatz_reps'],\n",
    "#         'maxiter': params['maxiter'],\n",
    "#         'test_accuracy': score\n",
    "#     })\n",
    "#     loss_values_dict[f\"reps_{params['feature_map_reps']}_{params['ansatz_reps']}\"] = loss_per_iteration\n",
    "\n",
    "#     # Simpan model terbaik\n",
    "#     if score > best_score:\n",
    "#         best_score = score\n",
    "#         best_params = params\n",
    "#         best_model = vqc\n",
    "\n",
    "# # Output: Akurasi terbaik dan prediksi model terbaik\n",
    "# print(\"Best Parameters:\", best_params)\n",
    "# print(\"Best Test Accuracy:\", best_score)\n",
    "# predictions = best_model.predict(x_test_encoded_100)\n",
    "# print(\"Predictions with Best Model:\", predictions)\n"
   ]
  },
  {
   "cell_type": "code",
   "execution_count": 27,
   "metadata": {
    "execution": {
     "iopub.execute_input": "2024-12-12T06:31:37.800174Z",
     "iopub.status.busy": "2024-12-12T06:31:37.799811Z",
     "iopub.status.idle": "2024-12-12T06:31:37.814499Z",
     "shell.execute_reply": "2024-12-12T06:31:37.813902Z",
     "shell.execute_reply.started": "2024-12-12T06:31:37.800125Z"
    },
    "trusted": true
   },
   "outputs": [],
   "source": [
    "# import pandas as pd\n",
    "\n",
    "# # Tampilkan hasil tuning dalam bentuk DataFrame\n",
    "# tuning_results_df = pd.DataFrame(tuning_results)\n",
    "# print(\"\\nTuning Results:\")\n",
    "# print(tuning_results_df)\n",
    "\n",
    "# # Output: Prediksi dari model terbaik\n",
    "# print(\"Predictions with Best Model:\", predictions)\n"
   ]
  },
  {
   "cell_type": "code",
   "execution_count": null,
   "metadata": {},
   "outputs": [],
   "source": [
    "# Tuning Results:\n",
    "#    feature_map_reps  ansatz_reps  maxiter  test_accuracy\n",
    "# 0                 1            1      100       0.580536\n",
    "# 1                 2            1      100       0.575449\n",
    "# 2                 1            2      100       0.592743\n",
    "# 3                 2            2      100       0.572058\n"
   ]
  },
  {
   "cell_type": "code",
   "execution_count": 28,
   "metadata": {
    "execution": {
     "iopub.execute_input": "2024-12-12T06:31:37.818835Z",
     "iopub.status.busy": "2024-12-12T06:31:37.818554Z",
     "iopub.status.idle": "2024-12-12T06:31:37.824761Z",
     "shell.execute_reply": "2024-12-12T06:31:37.823983Z",
     "shell.execute_reply.started": "2024-12-12T06:31:37.818792Z"
    },
    "trusted": true
   },
   "outputs": [],
   "source": [
    "# import matplotlib.pyplot as plt\n",
    "\n",
    "# # Visualisasi Loss untuk setiap kombinasi parameter\n",
    "# plt.figure(figsize=(10, 6))\n",
    "# colors = ['red', 'blue', 'green', 'purple']  # Pilihan warna untuk tiap parameter\n",
    "# for i, (label, losses) in enumerate(loss_values_dict.items()):\n",
    "#     plt.plot(losses, label=f\"{label}: {tuning_results[i]}\", color=colors[i])\n",
    "\n",
    "# plt.xlabel('Iteration')\n",
    "# plt.ylabel('Loss')\n",
    "# plt.title('Training Loss Over Iterations for Different Parameters')\n",
    "# plt.legend(title='Parameters')\n",
    "# plt.show()\n"
   ]
  },
  {
   "cell_type": "code",
   "execution_count": 29,
   "metadata": {
    "execution": {
     "iopub.execute_input": "2024-12-12T06:31:37.825944Z",
     "iopub.status.busy": "2024-12-12T06:31:37.825672Z",
     "iopub.status.idle": "2024-12-12T06:38:39.795547Z",
     "shell.execute_reply": "2024-12-12T06:38:39.794676Z",
     "shell.execute_reply.started": "2024-12-12T06:31:37.825920Z"
    },
    "trusted": true
   },
   "outputs": [
    {
     "name": "stdout",
     "output_type": "stream",
     "text": [
      "Parameters: C=10, reps=1 => Test Accuracy: 0.5666327568667345\n",
      "Best Parameters: {'C': 10, 'feature_map_reps': 1}\n",
      "Best Test Accuracy: 0.5666327568667345\n",
      "Predictions with Best Model: [0. 0. 0. 0. 0. 0. 1. 1. 0. 0. 0. 1. 0. 0. 1. 0. 0. 1. 1. 0. 0. 0. 1. 0.\n",
      " 0. 1. 1. 0. 1. 0. 1. 1. 0. 1. 1. 1. 0. 0. 0. 1. 1. 1. 1. 0. 1. 0. 1. 0.\n",
      " 0. 1. 0. 0. 0. 0. 1. 1. 1. 1. 1. 1. 1. 1. 1. 0. 1. 0. 0. 0. 0. 1. 0. 1.\n",
      " 1. 0. 1. 1. 1. 1. 1. 0. 0. 1. 1. 0. 0. 1. 0. 0. 1. 1. 1. 1. 0. 0. 1. 0.\n",
      " 1. 1. 1. 1.]\n"
     ]
    }
   ],
   "source": [
    "from qiskit_machine_learning.kernels import FidelityQuantumKernel\n",
    "from qiskit_machine_learning.algorithms import QSVC\n",
    "from qiskit.circuit.library import ZZFeatureMap\n",
    "from qiskit_algorithms.utils import algorithm_globals\n",
    "import numpy as np\n",
    "\n",
    "# Set seed for reproducibility\n",
    "algorithm_globals.random_seed = 12345\n",
    "\n",
    "# Definisikan grid parameter untuk tuning manual\n",
    "C_values = [10]  # Nilai regulasi SVM hanya 1 dan 10\n",
    "feature_map_reps = [1]  # Repetisi pada feature map\n",
    "\n",
    "# Variabel untuk melacak hasil tuning\n",
    "best_score = 0\n",
    "best_params = {}\n",
    "best_model = None\n",
    "tuning_results = []\n",
    "\n",
    "# Loop manual untuk mencari parameter terbaik\n",
    "for C in C_values:\n",
    "    for reps in feature_map_reps:\n",
    "        # Buat feature map dengan jumlah reps yang bervariasi\n",
    "        feature_map = ZZFeatureMap(feature_dimension=2, reps=reps)  # 2 fitur karena menggunakan 2 qubit\n",
    "\n",
    "        # Buat quantum kernel dengan feature map tersebut\n",
    "        quantum_kernel = FidelityQuantumKernel(feature_map=feature_map)\n",
    "\n",
    "        # Buat model QSVC dengan quantum kernel dan nilai C\n",
    "        qsvc = QSVC(quantum_kernel=quantum_kernel, C=C)\n",
    "\n",
    "        # Latih model pada data pelatihan (menggunakan 1000 data pertama)\n",
    "        qsvc.fit(x_train_encoded_100, y_train_100)\n",
    "\n",
    "        # Evaluasi model pada data uji\n",
    "        score = qsvc.score(x_test_encoded, y_test)\n",
    "        print(f\"Parameters: C={C}, reps={reps} => Test Accuracy: {score}\")\n",
    "\n",
    "        # Simpan hasil tuning\n",
    "        tuning_results.append({\n",
    "            'C': C,\n",
    "            'feature_map_reps': reps,\n",
    "            'test_accuracy': score\n",
    "        })\n",
    "\n",
    "        # Simpan model dan parameter jika akurasi lebih baik\n",
    "        if score > best_score:\n",
    "            best_score = score\n",
    "            best_params = {'C': C, 'feature_map_reps': reps}\n",
    "            best_model = qsvc\n",
    "\n",
    "# Output: Best Parameters, Best Test Accuracy, and Predictions\n",
    "print(\"Best Parameters:\", best_params)\n",
    "print(\"Best Test Accuracy:\", best_score)\n",
    "\n",
    "# Prediksi dengan model terbaik\n",
    "predictions_best = best_model.predict(x_test_encoded_100)\n",
    "print(\"Predictions with Best Model:\", predictions_best)\n"
   ]
  },
  {
   "cell_type": "code",
   "execution_count": 30,
   "metadata": {
    "execution": {
     "iopub.execute_input": "2024-12-12T06:38:39.797467Z",
     "iopub.status.busy": "2024-12-12T06:38:39.797120Z",
     "iopub.status.idle": "2024-12-12T06:38:59.316689Z",
     "shell.execute_reply": "2024-12-12T06:38:59.314450Z",
     "shell.execute_reply.started": "2024-12-12T06:38:39.797430Z"
    },
    "trusted": true
   },
   "outputs": [
    {
     "name": "stdout",
     "output_type": "stream",
     "text": [
      "Fitting 5 folds for each of 4 candidates, totalling 20 fits\n",
      "[CV] END ..........................C=0.1, kernel=precomputed; total time=   0.0s\n",
      "[CV] END ..........................C=0.1, kernel=precomputed; total time=   0.0s\n",
      "[CV] END ..........................C=0.1, kernel=precomputed; total time=   0.0s\n",
      "[CV] END ..........................C=0.1, kernel=precomputed; total time=   0.0s\n",
      "[CV] END ..........................C=0.1, kernel=precomputed; total time=   0.0s\n",
      "[CV] END ............................C=1, kernel=precomputed; total time=   0.0s\n",
      "[CV] END ............................C=1, kernel=precomputed; total time=   0.0s\n",
      "[CV] END ............................C=1, kernel=precomputed; total time=   0.0s\n",
      "[CV] END ............................C=1, kernel=precomputed; total time=   0.0s\n",
      "[CV] END ............................C=1, kernel=precomputed; total time=   0.0s\n",
      "[CV] END ...........................C=10, kernel=precomputed; total time=   0.0s\n",
      "[CV] END ...........................C=10, kernel=precomputed; total time=   0.0s\n",
      "[CV] END ...........................C=10, kernel=precomputed; total time=   0.0s\n",
      "[CV] END ...........................C=10, kernel=precomputed; total time=   0.0s\n",
      "[CV] END ...........................C=10, kernel=precomputed; total time=   0.0s\n",
      "[CV] END ..........................C=100, kernel=precomputed; total time=   0.0s\n",
      "[CV] END ..........................C=100, kernel=precomputed; total time=   0.0s\n",
      "[CV] END ..........................C=100, kernel=precomputed; total time=   0.0s\n",
      "[CV] END ..........................C=100, kernel=precomputed; total time=   0.0s\n",
      "[CV] END ..........................C=100, kernel=precomputed; total time=   0.0s\n",
      "Best Parameters: {'C': 100, 'kernel': 'precomputed'}\n",
      "Best Test Accuracy: 0.72\n",
      "Predictions: [0. 1. 0. 1. 0. 0. 0. 0. 1. 1. 1. 0. 0. 1. 0. 1. 0. 0. 0. 0. 0. 0. 0. 0.\n",
      " 0. 0. 1. 0. 0. 0. 0. 1. 1. 0. 0. 0. 0. 0. 0. 0. 0. 0. 0. 1. 0. 0. 0. 0.\n",
      " 1. 0. 0. 1. 0. 0. 0. 1. 1. 1. 0. 0. 0. 0. 1. 1. 0. 1. 0. 1. 1. 0. 1. 1.\n",
      " 1. 1. 0. 0. 1. 1. 0. 0. 1. 1. 0. 1. 0. 1. 0. 0. 0. 0. 0. 0. 1. 1. 1. 1.\n",
      " 1. 0. 0. 1.]\n"
     ]
    }
   ],
   "source": [
    "from sklearn.model_selection import GridSearchCV\n",
    "from sklearn.svm import SVC\n",
    "from qiskit_machine_learning.kernels import FidelityQuantumKernel\n",
    "from qiskit.circuit.library import ZZFeatureMap\n",
    "from qiskit_algorithms.utils import algorithm_globals\n",
    "import numpy as np\n",
    "import pandas as pd\n",
    "\n",
    "# Set seed for reproducibility\n",
    "algorithm_globals.random_seed = 12345\n",
    "\n",
    "# Definisikan feature map\n",
    "num_qubits = 2  # Karena data kita hanya memiliki 2 fitur\n",
    "feature_map = ZZFeatureMap(feature_dimension=num_qubits, reps=2)\n",
    "\n",
    "# Buat quantum kernel\n",
    "quantum_kernel = FidelityQuantumKernel(feature_map=feature_map)\n",
    "\n",
    "# Definisikan parameter grid untuk tuning\n",
    "param_grid = {\n",
    "    'C': [0.1, 1, 10, 100],  # Contoh nilai C yang ingin diuji\n",
    "    'kernel': ['precomputed']  # Kernel yang digunakan\n",
    "}\n",
    "\n",
    "# Buat model SVC\n",
    "svc = SVC()\n",
    "\n",
    "# Inisialisasi GridSearchCV\n",
    "grid_search = GridSearchCV(estimator=svc,\n",
    "                           param_grid=param_grid,\n",
    "                           cv=5,\n",
    "                           scoring='accuracy',\n",
    "                           verbose=2)\n",
    "\n",
    "# Hitung kernel matrix untuk data pelatihan\n",
    "kernel_matrix = quantum_kernel.evaluate(x_train_encoded_100)  # Menghitung kernel matrix untuk data pelatihan\n",
    "\n",
    "# Fit model dengan kernel matrix\n",
    "grid_search.fit(kernel_matrix, y_train_100)\n",
    "\n",
    "# Tampilkan parameter terbaik dan akurasi terbaik\n",
    "print(\"Best Parameters:\", grid_search.best_params_)\n",
    "print(\"Best Test Accuracy:\", grid_search.best_score_)\n",
    "\n",
    "# Prediksi dengan model terbaik\n",
    "best_svc = grid_search.best_estimator_\n",
    "test_kernel_matrix = quantum_kernel.evaluate(x_test_encoded_100)  # Hitung kernel matrix untuk data uji\n",
    "predictions = best_svc.predict(test_kernel_matrix)\n",
    "print(\"Predictions:\", predictions)\n"
   ]
  },
  {
   "cell_type": "code",
   "execution_count": 31,
   "metadata": {
    "execution": {
     "iopub.execute_input": "2024-12-12T06:38:59.319422Z",
     "iopub.status.busy": "2024-12-12T06:38:59.318936Z",
     "iopub.status.idle": "2024-12-12T06:38:59.358220Z",
     "shell.execute_reply": "2024-12-12T06:38:59.356687Z",
     "shell.execute_reply.started": "2024-12-12T06:38:59.319371Z"
    },
    "trusted": true
   },
   "outputs": [
    {
     "name": "stdout",
     "output_type": "stream",
     "text": [
      "\n",
      "Hyperparameter Tuning Results:\n",
      "                                params  mean_test_score  std_test_score  \\\n",
      "0  {'C': 0.1, 'kernel': 'precomputed'}             0.61        0.096954   \n",
      "1    {'C': 1, 'kernel': 'precomputed'}             0.63        0.081240   \n",
      "2   {'C': 10, 'kernel': 'precomputed'}             0.61        0.037417   \n",
      "3  {'C': 100, 'kernel': 'precomputed'}             0.72        0.074833   \n",
      "\n",
      "   rank_test_score  \n",
      "0                3  \n",
      "1                2  \n",
      "2                3  \n",
      "3                1  \n"
     ]
    }
   ],
   "source": [
    "# Tampilkan hasil tuning dalam bentuk dataframe\n",
    "results_df = pd.DataFrame(grid_search.cv_results_)\n",
    "print(\"\\nHyperparameter Tuning Results:\")\n",
    "print(results_df[['params', 'mean_test_score', 'std_test_score', 'rank_test_score']])\n"
   ]
  },
  {
   "cell_type": "code",
   "execution_count": null,
   "metadata": {
    "trusted": true
   },
   "outputs": [],
   "source": []
  },
  {
   "cell_type": "code",
   "execution_count": null,
   "metadata": {
    "trusted": true
   },
   "outputs": [],
   "source": []
  },
  {
   "cell_type": "code",
   "execution_count": null,
   "metadata": {
    "trusted": true
   },
   "outputs": [],
   "source": []
  },
  {
   "cell_type": "code",
   "execution_count": null,
   "metadata": {
    "trusted": true
   },
   "outputs": [],
   "source": []
  },
  {
   "cell_type": "code",
   "execution_count": null,
   "metadata": {
    "trusted": true
   },
   "outputs": [],
   "source": []
  },
  {
   "cell_type": "code",
   "execution_count": null,
   "metadata": {
    "trusted": true
   },
   "outputs": [],
   "source": []
  },
  {
   "cell_type": "code",
   "execution_count": null,
   "metadata": {
    "trusted": true
   },
   "outputs": [],
   "source": []
  },
  {
   "cell_type": "code",
   "execution_count": null,
   "metadata": {
    "trusted": true
   },
   "outputs": [],
   "source": []
  },
  {
   "cell_type": "code",
   "execution_count": null,
   "metadata": {
    "trusted": true
   },
   "outputs": [],
   "source": []
  }
 ],
 "metadata": {
  "kaggle": {
   "accelerator": "gpu",
   "dataSources": [
    {
     "datasetId": 6133009,
     "sourceId": 9969236,
     "sourceType": "datasetVersion"
    }
   ],
   "dockerImageVersionId": 30786,
   "isGpuEnabled": true,
   "isInternetEnabled": true,
   "language": "python",
   "sourceType": "notebook"
  },
  "kernelspec": {
   "display_name": "Python 3",
   "language": "python",
   "name": "python3"
  },
  "language_info": {
   "codemirror_mode": {
    "name": "ipython",
    "version": 3
   },
   "file_extension": ".py",
   "mimetype": "text/x-python",
   "name": "python",
   "nbconvert_exporter": "python",
   "pygments_lexer": "ipython3",
   "version": "3.10.14"
  }
 },
 "nbformat": 4,
 "nbformat_minor": 4
}
